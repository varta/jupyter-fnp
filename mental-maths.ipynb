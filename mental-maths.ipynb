{
 "cells": [
  {
   "cell_type": "markdown",
   "metadata": {},
   "source": [
    "# Random Operations"
   ]
  },
  {
   "cell_type": "code",
   "execution_count": 107,
   "metadata": {
    "scrolled": false
   },
   "outputs": [],
   "source": [
    "import numpy as np\n",
    "\n",
    "def xx(m=0, n=10, exclude=set([0, 1])):\n",
    "    while True:\n",
    "        x = np.random.randint(m, n)\n",
    "        if x not in exclude:\n",
    "            return x    \n",
    "    \n",
    "def sums(m=10, n=10, ml=0, nl=0, op='+', exclude=set([0, 1])):\n",
    "    \n",
    "    y = xx(nl, n, exclude)\n",
    "    x = xx(ml, m, exclude)\n",
    "    if op == '+':\n",
    "        r = x + y\n",
    "    elif op == '-':\n",
    "        r = x - y\n",
    "    elif op == '*' or op == 'x':\n",
    "        r = x * y\n",
    "    elif op == '/':\n",
    "        r = x / y\n",
    "    elif op == '% of ':\n",
    "        r = x * y / 100\n",
    "    elif op == '//':\n",
    "        while (x // y) != (x / y):\n",
    "            x = xx(ml, m, exclude)\n",
    "        r = x // y\n",
    "    return x, y, r\n",
    "\n",
    "def user_to_int(user_input, decimal_places=4):\n",
    "    fmt = '%%.%sf' % decimal_places\n",
    "    try:\n",
    "        user_input = float(fmt % float(user_input))\n",
    "    except:\n",
    "        user_input = None\n",
    "    return user_input\n",
    "\n",
    "def get_verified_input(x, y, r, op, index):\n",
    "    chances = 0\n",
    "    while True:\n",
    "        print(index, '>    ', x, op, y, '=', end=' ')\n",
    "        user_input = user_to_int(input())\n",
    "        result_compare = float('%.4f' % r)\n",
    "        if user_input == result_compare: # ALERT: since we only compare 4 decimals!!!\n",
    "            break\n",
    "        print('again, ', end='')\n",
    "        chances += 1\n",
    "    if user_input == result_compare:\n",
    "        print('  YES!')\n",
    "    else:\n",
    "        print('  '. user_input, ' is WRONG.', x, ' ', op, ' ', y, ' = ', result_compare,'\\m\\n')\n",
    "\n",
    "def get_mental_math(x, y, r, op, index):\n",
    "    print(index, '>    ', x, op, y, '=', end=' ')\n",
    "    result_discard = input()\n",
    "    print(r)\n",
    "    \n",
    "def generate_mental_math(\n",
    "        sums_per_operator = 5,\n",
    "        operators = ['+', '-', '/', '*', '% of ', '//'],\n",
    "        max_chances = 3,\n",
    "        m = (0, 10),    \n",
    "        n = (0, 10),\n",
    "        input_process=get_verified_input,\n",
    "        exclude=set([0, 1, 10, 11, 20])):\n",
    "    \n",
    "    opsums = operators * sums_per_operator\n",
    "    np.random.shuffle(opsums)\n",
    "    for i in range(len(opsums)):\n",
    "        op = opsums[i]\n",
    "        x, y, r = sums(m[1], n[1], ml=m[0], nl=n[0], op=op, exclude=exclude)\n",
    "        input_process(x, y, r, op, i+1)\n",
    "    print('That\\'s all folks!')"
   ]
  },
  {
   "cell_type": "markdown",
   "metadata": {},
   "source": [
    "# Int to String Transformation"
   ]
  },
  {
   "cell_type": "code",
   "execution_count": 4,
   "metadata": {},
   "outputs": [],
   "source": [
    "# https://stackoverflow.com/a/35416917\n",
    "def int_to_en_legacy(num):\n",
    "    d = { 0 : 'zero', 1 : 'one', 2 : 'two', 3 : 'three', 4 : 'four', 5 : 'five', \\\n",
    "          6 : 'six', 7 : 'seven', 8 : 'eight', 9 : 'nine', 10 : 'ten', \\\n",
    "          11 : 'eleven', 12 : 'twelve', 13 : 'thirteen', 14 : 'fourteen', \\\n",
    "          15 : 'fifteen', 16 : 'sixteen', 17 : 'seventeen', 18 : 'eighteen', \\\n",
    "          19 : 'ninteen', 20 : 'twenty', \\\n",
    "          30 : 'thirty', 40 : 'fourth', 50 : 'fifty', 60 : 'sixty', \\\n",
    "          70 : 'seventy', 80 : 'eighty', 90 : 'ninty' }\n",
    "    k = 1000\n",
    "    m = k * 1000\n",
    "\n",
    "    if (num < 20):\n",
    "        return d[num]\n",
    "\n",
    "    if (num < 100):\n",
    "        if num % 10 == 0:\n",
    "            return d[num]\n",
    "        else:\n",
    "            return d[num // 10 * 10] + ' ' + d[num % 10]\n",
    "\n",
    "    if (num < k):\n",
    "        if num % 100 == 0:\n",
    "            return d[num // 100] + ' hundred'\n",
    "        else:\n",
    "            return d[num // 100] + ' hundred ' + int_to_en(num % 100)\n",
    "    if (num < m):\n",
    "        if num % k == 0:\n",
    "            return int_to_en(num // k) + ' thousand'\n",
    "        else:\n",
    "            return int_to_en(num // k) + ' thousand, ' + int_to_en(num % k)\n",
    "\n",
    "def int_to_en(x):\n",
    "    if x < 0:\n",
    "        return '-' + int_to_en(-x)\n",
    "    \n",
    "    INT_TO_EN = {\n",
    "        0: 'zero',\n",
    "        1: 'one', 2: 'two', 3: 'three', 4: 'four', 5: 'five',\n",
    "        6: 'six', 7: 'seven', 8: 'eight', 9: 'nine',\n",
    "        10: 'ten',\n",
    "        11: 'eleven', 12: 'twelve', 13: 'thirteen', 14: 'fourteen', 15: 'fifteen',\n",
    "        16: 'sixteen', 17: 'seventeen', 18: 'eighteen', 19: 'nineteen',\n",
    "        20: 'twenty',\n",
    "        30: 'thirty', 40: 'forty', 50: 'fifty', 60: 'sixty', 70: 'seventy', 80: 'eighty', 90: 'nintey',\n",
    "        100: 'hundred',\n",
    "        1000: 'thousand',\n",
    "        1000000: 'million',\n",
    "    }\n",
    "    \n",
    "    def point(wf):\n",
    "        return '' if wf == 'zero' else \" \" + wf\n",
    "\n",
    "    if x < 20:\n",
    "        return INT_TO_EN[x]\n",
    "    \n",
    "    if x < 100:\n",
    "        if x % 10 == 0:\n",
    "            return INT_TO_EN[x]\n",
    "        return INT_TO_EN[10 * (x // 10)] + \" \" + INT_TO_EN[x % 10]\n",
    "    \n",
    "    if x < 1000:\n",
    "        return INT_TO_EN[x // 100] + \" \" + INT_TO_EN[100] + point(int_to_en(x % 100))\n",
    "    \n",
    "    if x < 1000000:\n",
    "        return int_to_en(x // 1000) + \" \" + INT_TO_EN[1000] + point(int_to_en(x % 1000))"
   ]
  },
  {
   "cell_type": "markdown",
   "metadata": {},
   "source": [
    "# Multiplication Tables"
   ]
  },
  {
   "cell_type": "code",
   "execution_count": 14,
   "metadata": {},
   "outputs": [],
   "source": [
    "def multiplied(x, l=10, spaces=''):\n",
    "    for r in range(1, l+1):\n",
    "        print(\"%s%3s x %3s = %3s      %5s x %5s-za = %25s\" % (spaces, x, r, r * x, int_to_en(x), int_to_en(r), int_to_en(r*x)))\n",
    "\n",
    "def multiplicating_table(x, l=10, int_begin=2):\n",
    "    for r in range(int_begin, x+1):\n",
    "        print(int_to_en(r))\n",
    "        multiplied(r, l, spaces='\\t')\n",
    "        print('\\n\\n\\n')"
   ]
  },
  {
   "cell_type": "markdown",
   "metadata": {},
   "source": [
    "### Multiplication Tables Short Form"
   ]
  },
  {
   "cell_type": "code",
   "execution_count": 73,
   "metadata": {
    "scrolled": false
   },
   "outputs": [
    {
     "name": "stdout",
     "output_type": "stream",
     "text": [
      "\n",
      "\n",
      "          2      3      4      5      6      7      8      9     10\n",
      "-------------------------------------------------------------------\n",
      "x  1      2      3      4      5      6      7      8      9     10\n",
      "x  2      4      6      8     10     12     14     16     18     20\n",
      "x  3      6      9     12     15     18     21     24     27     30\n",
      "x  4      8     12     16     20     24     28     32     36     40\n",
      "x  5     10     15     20     25     30     35     40     45     50\n",
      "x  6     12     18     24     30     36     42     48     54     60\n",
      "x  7     14     21     28     35     42     49     56     63     70\n",
      "x  8     16     24     32     40     48     56     64     72     80\n",
      "x  9     18     27     36     45     54     63     72     81     90\n",
      "x 10     20     30     40     50     60     70     80     90    100\n",
      "\n",
      "\n",
      "\n",
      "\n",
      "         11     12     13     14     15     16     17     18     19\n",
      "-------------------------------------------------------------------\n",
      "x  1     11     12     13     14     15     16     17     18     19\n",
      "x  2     22     24     26     28     30     32     34     36     38\n",
      "x  3     33     36     39     42     45     48     51     54     57\n",
      "x  4     44     48     52     56     60     64     68     72     76\n",
      "x  5     55     60     65     70     75     80     85     90     95\n",
      "x  6     66     72     78     84     90     96    102    108    114\n",
      "x  7     77     84     91     98    105    112    119    126    133\n",
      "x  8     88     96    104    112    120    128    136    144    152\n",
      "x  9     99    108    117    126    135    144    153    162    171\n",
      "x 10    110    120    130    140    150    160    170    180    190\n",
      "\n",
      "\n"
     ]
    }
   ],
   "source": [
    "def multiplication_table(n, e):\n",
    "    print('')\n",
    "    print('')\n",
    "    # multiplication table of n to e\n",
    "    print('    ' + ''.join(['  %5.0f'  % idx for idx in range(n, e)]))\n",
    "    print('-' * (4+7*(e-n)))\n",
    "    for idx in range(1, 11):\n",
    "        print('x%3.0f' % idx + ''.join(['  %5.0f' % (jdx * idx) for jdx in range(n, e)]))\n",
    "    print('')        \n",
    "    print('')\n",
    "    \n",
    "ntuple = 9\n",
    "for idx in range(2, 20, ntuple):\n",
    "    multiplication_table(idx, idx+ntuple)"
   ]
  },
  {
   "cell_type": "markdown",
   "metadata": {},
   "source": [
    "### Random Operations Examples"
   ]
  },
  {
   "cell_type": "code",
   "execution_count": 109,
   "metadata": {},
   "outputs": [],
   "source": [
    "#generate_mental_math(2, ['*'], 3, m=(0, 10), n=(0, 10))\n",
    "#generate_mental_math(30, ['+', '-'], 3)\n",
    "#generate_mental_math(30, ['+', '-'], 3, m=(5, 10))\n",
    "#generate_mental_math(120, ['+'], 3, m=(0, 10), n=(0, 10), input_process=get_mental_math)\n",
    "#generate_mental_math(30, ['+'], 3, m=(0, 100), n=(0, 10))\n",
    "#generate_mental_math(30, ['*'], 3, m=(0, 10), n=(0, 10))\n",
    "#generate_mental_math(120, ['*'], 3, m=(1, 13), n=(1, 10), input_process=get_mental_math)\n",
    "#generate_mental_math(30, ['*'], 3, m=(0, 10), n=(0, 10))\n",
    "#generate_mental_math(120, ['*'], input_process=get_mental_math, m=(0, 21), n=(0, 11))\n",
    "\n",
    "#generate_mental_math(10, ['+', '-'], 3, m=(0, 100), n=(0, 100))\n",
    "#generate_mental_math(10, ['//'], 3, m=(0, 100), n=(0, 11))"
   ]
  },
  {
   "cell_type": "markdown",
   "metadata": {},
   "source": [
    "# Daily Exercise"
   ]
  },
  {
   "cell_type": "code",
   "execution_count": 113,
   "metadata": {},
   "outputs": [
    {
     "name": "stdout",
     "output_type": "stream",
     "text": [
      "1 >     14 - 67 = -53\n",
      "  YES!\n",
      "2 >     9 - 41 = -32\n",
      "  YES!\n",
      "3 >     30 + 97 = 127\n",
      "  YES!\n",
      "4 >     7 + 82 = 89\n",
      "  YES!\n",
      "5 >     34 - 14 = 20\n",
      "  YES!\n",
      "6 >     59 - 4 = 55\n",
      "  YES!\n",
      "7 >     17 + 51 = 68\n",
      "  YES!\n",
      "8 >     68 - 44 = 24\n",
      "  YES!\n",
      "9 >     26 - 17 = 19\n",
      "again, 9 >     26 - 17 = 9\n",
      "  YES!\n",
      "10 >     38 + 82 = 120\n",
      "  YES!\n",
      "11 >     30 + 8 = 38\n",
      "  YES!\n",
      "12 >     48 + 84 = 132\n",
      "  YES!\n",
      "13 >     35 + 51 = 86\n",
      "  YES!\n",
      "14 >     98 + 67 = 165\n",
      "  YES!\n",
      "15 >     16 - 15 = 1\n",
      "  YES!\n",
      "16 >     2 - 65 = -63\n",
      "  YES!\n",
      "17 >     77 + 19 = 96\n",
      "  YES!\n",
      "18 >     38 - 75 = -37\n",
      "  YES!\n",
      "19 >     57 + 82 = 139\n",
      "  YES!\n",
      "20 >     31 - 98 = -67\n",
      "  YES!\n",
      "That's all folks!\n"
     ]
    }
   ],
   "source": [
    "generate_mental_math(10, ['+', '-'], 3, m=(0, 100), n=(0, 100))"
   ]
  },
  {
   "cell_type": "code",
   "execution_count": 112,
   "metadata": {},
   "outputs": [
    {
     "name": "stdout",
     "output_type": "stream",
     "text": [
      "1 >     8 * 2 = 16\n",
      "  YES!\n",
      "2 >     4 * 7 = 28\n",
      "  YES!\n",
      "3 >     5 * 2 = 10\n",
      "  YES!\n",
      "4 >     2 * 5 = 10\n",
      "  YES!\n",
      "5 >     8 * 9 = 72\n",
      "  YES!\n",
      "6 >     12 * 3 = 36\n",
      "  YES!\n",
      "7 >     5 * 9 = 45\n",
      "  YES!\n",
      "8 >     5 * 8 = 40\n",
      "  YES!\n",
      "9 >     5 * 3 = 15\n",
      "  YES!\n",
      "10 >     8 * 6 = 48\n",
      "  YES!\n",
      "11 >     8 * 2 = 16\n",
      "  YES!\n",
      "12 >     3 * 5 = 15\n",
      "  YES!\n",
      "13 >     2 * 4 = 8\n",
      "  YES!\n",
      "14 >     5 * 5 = 25\n",
      "  YES!\n",
      "15 >     4 * 7 = 28\n",
      "  YES!\n",
      "16 >     7 * 2 = 14\n",
      "  YES!\n",
      "17 >     9 * 6 = 54\n",
      "  YES!\n",
      "18 >     6 * 5 = 30\n",
      "  YES!\n",
      "19 >     6 * 3 = 18\n",
      "  YES!\n",
      "20 >     9 * 5 = 45\n",
      "  YES!\n",
      "That's all folks!\n"
     ]
    }
   ],
   "source": [
    "generate_mental_math(20, ['*'], 3, m=(1, 13), n=(1, 10))"
   ]
  },
  {
   "cell_type": "code",
   "execution_count": 111,
   "metadata": {},
   "outputs": [
    {
     "name": "stdout",
     "output_type": "stream",
     "text": [
      "1 >     16 * 7 = 96\n",
      "again, 1 >     16 * 7 = 112\n",
      "  YES!\n",
      "2 >     14 * 6 = 84\n",
      "  YES!\n",
      "3 >     12 * 5 = 60\n",
      "  YES!\n",
      "4 >     16 * 5 = 80\n",
      "  YES!\n",
      "5 >     15 * 7 = 105\n",
      "  YES!\n",
      "6 >     19 * 6 = 114\n",
      "  YES!\n",
      "7 >     18 * 6 = 108\n",
      "  YES!\n",
      "8 >     18 * 5 = 90\n",
      "  YES!\n",
      "9 >     14 * 7 = 98\n",
      "  YES!\n",
      "10 >     18 * 9 = 162\n",
      "  YES!\n",
      "That's all folks!\n"
     ]
    }
   ],
   "source": [
    "generate_mental_math(10, ['*'], 3, m=(11, 21), n=(1, 10))"
   ]
  },
  {
   "cell_type": "code",
   "execution_count": 110,
   "metadata": {},
   "outputs": [
    {
     "name": "stdout",
     "output_type": "stream",
     "text": [
      "1 >     48 // 8 = 6\n",
      "  YES!\n",
      "2 >     18 // 2 = 9\n",
      "  YES!\n",
      "3 >     45 // 9 = 5\n",
      "  YES!\n",
      "4 >     7 // 7 = 1\n",
      "  YES!\n",
      "5 >     24 // 4 = 6\n",
      "  YES!\n",
      "6 >     68 // 4 = 17\n",
      "  YES!\n",
      "7 >     63 // 9 = 6\n",
      "again, 7 >     63 // 9 = 7\n",
      "  YES!\n",
      "8 >     18 // 9 = 2\n",
      "  YES!\n",
      "9 >     66 // 3 = 22\n",
      "  YES!\n",
      "10 >     64 // 8 = 8\n",
      "  YES!\n",
      "That's all folks!\n"
     ]
    }
   ],
   "source": [
    "generate_mental_math(20, ['//'], 3, m=(1, 100), n=(1, 11))"
   ]
  },
  {
   "cell_type": "code",
   "execution_count": 82,
   "metadata": {},
   "outputs": [
    {
     "name": "stdout",
     "output_type": "stream",
     "text": [
      "1 >  29 / 6 = 4.83333333\n",
      "  YES!\n",
      "2 >  37 / 9 = 4.111111111\n",
      "  YES!\n",
      "3 >  88 / 7 = 12.571328\n",
      "again, 3 >  88 / 7 = 12.571428\n",
      "  YES!\n",
      "4 >  8 / 7 = 1.1425714\n",
      "again, 4 >  8 / 7 = 1.142857\n",
      "  YES!\n",
      "5 >  55 / 8 = 6.8888888\n",
      "again, 5 >  55 / 8 = 6.875\n",
      "  YES!\n",
      "6 >  53 / 8 = 6.625\n",
      "  YES!\n",
      "7 >  4 / 4 = 1\n",
      "  YES!\n",
      "8 >  52 / 3 = 17.3333333334\n",
      "  YES!\n",
      "9 >  27 / 4 = 6.75\n",
      "  YES!\n",
      "10 >  89 / 4 = 22.25\n",
      "  YES!\n",
      "That's all folks!\n"
     ]
    }
   ],
   "source": [
    "generate_mental_math(10, ['/'], 3, m=(1, 100), n=(1, 11))"
   ]
  },
  {
   "cell_type": "code",
   "execution_count": 87,
   "metadata": {},
   "outputs": [
    {
     "name": "stdout",
     "output_type": "stream",
     "text": [
      "  4 x   1 =   4       four x   one-za =                      four\n",
      "  4 x   2 =   8       four x   two-za =                     eight\n",
      "  4 x   3 =  12       four x three-za =                    twelve\n",
      "  4 x   4 =  16       four x  four-za =                   sixteen\n",
      "  4 x   5 =  20       four x  five-za =                    twenty\n",
      "  4 x   6 =  24       four x   six-za =               twenty four\n",
      "  4 x   7 =  28       four x seven-za =              twenty eight\n",
      "  4 x   8 =  32       four x eight-za =                thirty two\n",
      "  4 x   9 =  36       four x  nine-za =                thirty six\n",
      "  4 x  10 =  40       four x   ten-za =                     forty\n"
     ]
    }
   ],
   "source": [
    "multiplied(np.random.randint(2, 11))"
   ]
  },
  {
   "cell_type": "code",
   "execution_count": 86,
   "metadata": {},
   "outputs": [
    {
     "name": "stdout",
     "output_type": "stream",
     "text": [
      " 17 x   1 =  17      seventeen x   one-za =                 seventeen\n",
      " 17 x   2 =  34      seventeen x   two-za =               thirty four\n",
      " 17 x   3 =  51      seventeen x three-za =                 fifty one\n",
      " 17 x   4 =  68      seventeen x  four-za =               sixty eight\n",
      " 17 x   5 =  85      seventeen x  five-za =               eighty five\n",
      " 17 x   6 = 102      seventeen x   six-za =           one hundred two\n",
      " 17 x   7 = 119      seventeen x seven-za =      one hundred nineteen\n",
      " 17 x   8 = 136      seventeen x eight-za =    one hundred thirty six\n",
      " 17 x   9 = 153      seventeen x  nine-za =   one hundred fifty three\n",
      " 17 x  10 = 170      seventeen x   ten-za =       one hundred seventy\n"
     ]
    }
   ],
   "source": [
    "multiplied(np.random.randint(11, 21))"
   ]
  }
 ],
 "metadata": {
  "kernelspec": {
   "display_name": "Python 3",
   "language": "python",
   "name": "python3"
  },
  "language_info": {
   "codemirror_mode": {
    "name": "ipython",
    "version": 3
   },
   "file_extension": ".py",
   "mimetype": "text/x-python",
   "name": "python",
   "nbconvert_exporter": "python",
   "pygments_lexer": "ipython3",
   "version": "3.8.2"
  }
 },
 "nbformat": 4,
 "nbformat_minor": 2
}
