{
 "cells": [
  {
   "cell_type": "markdown",
   "metadata": {},
   "source": [
    "# Random Operations"
   ]
  },
  {
   "cell_type": "markdown",
   "metadata": {},
   "source": [
    "### Timer Decorators"
   ]
  },
  {
   "cell_type": "markdown",
   "metadata": {},
   "source": [
    "#### _Timer Decorators -- archive_"
   ]
  },
  {
   "cell_type": "code",
   "execution_count": 126,
   "metadata": {},
   "outputs": [
    {
     "name": "stdout",
     "output_type": "stream",
     "text": [
      "*\n",
      "*\n",
      "*\n",
      "Time:  0h  0m  3s\n"
     ]
    }
   ],
   "source": [
    "import time\n",
    "def decorator_timer(func, *args, **nargs):\n",
    "    def func_wrapper():\n",
    "        s1 = time.time()\n",
    "        func(*args, **nargs)\n",
    "        s2 = time.time()\n",
    "        s = s2 - s1\n",
    "        print(\"Time: %2dh %2dm %2ds\" %(s//3600, (s-(s//3600))//60, (s-(s//60))))\n",
    "\n",
    "    return func_wrapper\n",
    "\n",
    "def tmp(n=5):\n",
    "    for i in range(n):\n",
    "        print('*')\n",
    "        time.sleep(1)\n",
    "        \n",
    "dectmp = decorator_timer(tmp, n=3)\n",
    "dectmp()"
   ]
  },
  {
   "cell_type": "code",
   "execution_count": 127,
   "metadata": {},
   "outputs": [
    {
     "name": "stdout",
     "output_type": "stream",
     "text": [
      "*\n",
      "*\n",
      "*\n",
      "*\n",
      "*\n",
      "Time:  0h  0m  5s\n"
     ]
    }
   ],
   "source": [
    "import functools\n",
    "import time\n",
    "\n",
    "def timer(func):\n",
    "    @functools.wraps(func)\n",
    "    def wrapper_func(*args, **kwargs):\n",
    "        s1 = time.time()\n",
    "        val = func(*args, **kwargs)\n",
    "        s2 = time.time()\n",
    "        s = s2 - s1\n",
    "        print(\"Time: %2dh %2dm %2ds\" %(s//3600, (s-(s//3600))//60, (s-(s//60))))\n",
    "        return val\n",
    "    return wrapper_func\n",
    "\n",
    "@timer\n",
    "def work(n=5):\n",
    "    for i in range(n):\n",
    "        print('*')\n",
    "        time.sleep(1)\n",
    "\n",
    "work()"
   ]
  },
  {
   "cell_type": "code",
   "execution_count": 128,
   "metadata": {
    "scrolled": false
   },
   "outputs": [],
   "source": [
    "import numpy as np\n",
    "\n",
    "def xx(m=0, n=10, exclude=set([0, 1])):\n",
    "    while True:\n",
    "        x = np.random.randint(m, n)\n",
    "        if x not in exclude:\n",
    "            return x    \n",
    "    \n",
    "def sums(m=10, n=10, ml=0, nl=0, op='+', exclude=set([0, 1])):\n",
    "    \n",
    "    y = xx(nl, n, exclude)\n",
    "    x = xx(ml, m, exclude)\n",
    "    if op == '+':\n",
    "        r = x + y\n",
    "    elif op == '-':\n",
    "        r = x - y\n",
    "    elif op == '*' or op == 'x':\n",
    "        r = x * y\n",
    "    elif op == '/':\n",
    "        r = x / y\n",
    "    elif op == '% of ':\n",
    "        r = x * y / 100\n",
    "    elif op == '//':\n",
    "        r = x\n",
    "        x *= y\n",
    "        #while (x // y) != (x / y):\n",
    "        #    x = xx(ml, m, exclude)\n",
    "        #r = x // y\n",
    "    return x, y, r\n",
    "\n",
    "def user_to_int(user_input, decimal_places=4):\n",
    "    fmt = '%%.%sf' % decimal_places\n",
    "    try:\n",
    "        user_input = float(fmt % float(user_input))\n",
    "    except:\n",
    "        user_input = None\n",
    "    return user_input\n",
    "\n",
    "def get_verified_input(x, y, r, op, index):\n",
    "    chances = 0\n",
    "    while True:\n",
    "        print(index, '>    ', x, op, y, '=', end=' ')\n",
    "        user_input = user_to_int(input())\n",
    "        result_compare = float('%.4f' % r)\n",
    "        if user_input == result_compare: # ALERT: since we only compare 4 decimals!!!\n",
    "            break\n",
    "        print('again, ', end='')\n",
    "        chances += 1\n",
    "    if user_input == result_compare:\n",
    "        print('  YES!')\n",
    "    else:\n",
    "        print('  '. user_input, ' is WRONG.', x, ' ', op, ' ', y, ' = ', result_compare,'\\m\\n')\n",
    "\n",
    "def get_mental_math(x, y, r, op, index):\n",
    "    print(index, '>    ', x, op, y, '=', end=' ')\n",
    "    result_discard = input()\n",
    "    print(r)\n",
    "    \n",
    "@timer\n",
    "def generate_mental_math(\n",
    "        sums_per_operator = 5,\n",
    "        operators = ['+', '-', '/', '*', '% of ', '//'],\n",
    "        max_chances = 3,\n",
    "        m = (0, 10),    \n",
    "        n = (0, 10),\n",
    "        input_process=get_verified_input,\n",
    "        exclude=set([0, 1, 10, 11, 20])):\n",
    "    \n",
    "    opsums = operators * sums_per_operator\n",
    "    np.random.shuffle(opsums)\n",
    "    for i in range(len(opsums)):\n",
    "        op = opsums[i]\n",
    "        x, y, r = sums(m[1], n[1], ml=m[0], nl=n[0], op=op, exclude=exclude)\n",
    "        input_process(x, y, r, op, i+1)\n",
    "    print('That\\'s all folks!')"
   ]
  },
  {
   "cell_type": "markdown",
   "metadata": {},
   "source": [
    "# Int to String Transformation"
   ]
  },
  {
   "cell_type": "code",
   "execution_count": 129,
   "metadata": {},
   "outputs": [],
   "source": [
    "# https://stackoverflow.com/a/35416917\n",
    "def int_to_en_legacy(num):\n",
    "    d = { 0 : 'zero', 1 : 'one', 2 : 'two', 3 : 'three', 4 : 'four', 5 : 'five', \\\n",
    "          6 : 'six', 7 : 'seven', 8 : 'eight', 9 : 'nine', 10 : 'ten', \\\n",
    "          11 : 'eleven', 12 : 'twelve', 13 : 'thirteen', 14 : 'fourteen', \\\n",
    "          15 : 'fifteen', 16 : 'sixteen', 17 : 'seventeen', 18 : 'eighteen', \\\n",
    "          19 : 'ninteen', 20 : 'twenty', \\\n",
    "          30 : 'thirty', 40 : 'fourth', 50 : 'fifty', 60 : 'sixty', \\\n",
    "          70 : 'seventy', 80 : 'eighty', 90 : 'ninty' }\n",
    "    k = 1000\n",
    "    m = k * 1000\n",
    "\n",
    "    if (num < 20):\n",
    "        return d[num]\n",
    "\n",
    "    if (num < 100):\n",
    "        if num % 10 == 0:\n",
    "            return d[num]\n",
    "        else:\n",
    "            return d[num // 10 * 10] + ' ' + d[num % 10]\n",
    "\n",
    "    if (num < k):\n",
    "        if num % 100 == 0:\n",
    "            return d[num // 100] + ' hundred'\n",
    "        else:\n",
    "            return d[num // 100] + ' hundred ' + int_to_en(num % 100)\n",
    "    if (num < m):\n",
    "        if num % k == 0:\n",
    "            return int_to_en(num // k) + ' thousand'\n",
    "        else:\n",
    "            return int_to_en(num // k) + ' thousand, ' + int_to_en(num % k)\n",
    "\n",
    "def int_to_en(x):\n",
    "    if x < 0:\n",
    "        return '-' + int_to_en(-x)\n",
    "    \n",
    "    INT_TO_EN = {\n",
    "        0: 'zero',\n",
    "        1: 'one', 2: 'two', 3: 'three', 4: 'four', 5: 'five',\n",
    "        6: 'six', 7: 'seven', 8: 'eight', 9: 'nine',\n",
    "        10: 'ten',\n",
    "        11: 'eleven', 12: 'twelve', 13: 'thirteen', 14: 'fourteen', 15: 'fifteen',\n",
    "        16: 'sixteen', 17: 'seventeen', 18: 'eighteen', 19: 'nineteen',\n",
    "        20: 'twenty',\n",
    "        30: 'thirty', 40: 'forty', 50: 'fifty', 60: 'sixty', 70: 'seventy', 80: 'eighty', 90: 'nintey',\n",
    "        100: 'hundred',\n",
    "        1000: 'thousand',\n",
    "        1000000: 'million',\n",
    "    }\n",
    "    \n",
    "    def point(wf):\n",
    "        return '' if wf == 'zero' else \" \" + wf\n",
    "\n",
    "    if x < 20:\n",
    "        return INT_TO_EN[x]\n",
    "    \n",
    "    if x < 100:\n",
    "        if x % 10 == 0:\n",
    "            return INT_TO_EN[x]\n",
    "        return INT_TO_EN[10 * (x // 10)] + \" \" + INT_TO_EN[x % 10]\n",
    "    \n",
    "    if x < 1000:\n",
    "        return INT_TO_EN[x // 100] + \" \" + INT_TO_EN[100] + point(int_to_en(x % 100))\n",
    "    \n",
    "    if x < 1000000:\n",
    "        return int_to_en(x // 1000) + \" \" + INT_TO_EN[1000] + point(int_to_en(x % 1000))"
   ]
  },
  {
   "cell_type": "markdown",
   "metadata": {},
   "source": [
    "# Multiplication Tables"
   ]
  },
  {
   "cell_type": "code",
   "execution_count": 3,
   "metadata": {},
   "outputs": [],
   "source": [
    "def multiplied(x, l=10, spaces=''):\n",
    "    for r in range(1, l+1):\n",
    "        print(\"%s%3s x %3s = %3s      %5s x %5s-za = %25s\" % (spaces, x, r, r * x, int_to_en(x), int_to_en(r), int_to_en(r*x)))\n",
    "\n",
    "def multiplicating_table(x, l=10, int_begin=2):\n",
    "    for r in range(int_begin, x+1):\n",
    "        print(int_to_en(r))\n",
    "        multiplied(r, l, spaces='\\t')\n",
    "        print('\\n\\n\\n')"
   ]
  },
  {
   "cell_type": "markdown",
   "metadata": {},
   "source": [
    "### Multiplication Tables Short Form"
   ]
  },
  {
   "cell_type": "code",
   "execution_count": 4,
   "metadata": {
    "scrolled": false
   },
   "outputs": [
    {
     "name": "stdout",
     "output_type": "stream",
     "text": [
      "\n",
      "\n",
      "          2      3      4      5      6      7      8      9     10\n",
      "-------------------------------------------------------------------\n",
      "x  1      2      3      4      5      6      7      8      9     10\n",
      "x  2      4      6      8     10     12     14     16     18     20\n",
      "x  3      6      9     12     15     18     21     24     27     30\n",
      "x  4      8     12     16     20     24     28     32     36     40\n",
      "x  5     10     15     20     25     30     35     40     45     50\n",
      "x  6     12     18     24     30     36     42     48     54     60\n",
      "x  7     14     21     28     35     42     49     56     63     70\n",
      "x  8     16     24     32     40     48     56     64     72     80\n",
      "x  9     18     27     36     45     54     63     72     81     90\n",
      "x 10     20     30     40     50     60     70     80     90    100\n",
      "\n",
      "\n",
      "\n",
      "\n",
      "         11     12     13     14     15     16     17     18     19\n",
      "-------------------------------------------------------------------\n",
      "x  1     11     12     13     14     15     16     17     18     19\n",
      "x  2     22     24     26     28     30     32     34     36     38\n",
      "x  3     33     36     39     42     45     48     51     54     57\n",
      "x  4     44     48     52     56     60     64     68     72     76\n",
      "x  5     55     60     65     70     75     80     85     90     95\n",
      "x  6     66     72     78     84     90     96    102    108    114\n",
      "x  7     77     84     91     98    105    112    119    126    133\n",
      "x  8     88     96    104    112    120    128    136    144    152\n",
      "x  9     99    108    117    126    135    144    153    162    171\n",
      "x 10    110    120    130    140    150    160    170    180    190\n",
      "\n",
      "\n"
     ]
    }
   ],
   "source": [
    "def multiplication_table(n, e):\n",
    "    print('')\n",
    "    print('')\n",
    "    # multiplication table of n to e\n",
    "    print('    ' + ''.join(['  %5.0f'  % idx for idx in range(n, e)]))\n",
    "    print('-' * (4+7*(e-n)))\n",
    "    for idx in range(1, 11):\n",
    "        print('x%3.0f' % idx + ''.join(['  %5.0f' % (jdx * idx) for jdx in range(n, e)]))\n",
    "    print('')        \n",
    "    print('')\n",
    "    \n",
    "ntuple = 9\n",
    "for idx in range(2, 20, ntuple):\n",
    "    multiplication_table(idx, idx+ntuple)"
   ]
  },
  {
   "cell_type": "markdown",
   "metadata": {},
   "source": [
    "### Random Operations Examples"
   ]
  },
  {
   "cell_type": "code",
   "execution_count": 5,
   "metadata": {},
   "outputs": [],
   "source": [
    "#generate_mental_math(2, ['*'], 3, m=(0, 10), n=(0, 10))\n",
    "#generate_mental_math(30, ['+', '-'], 3)\n",
    "#generate_mental_math(30, ['+', '-'], 3, m=(5, 10))\n",
    "#generate_mental_math(120, ['+'], 3, m=(0, 10), n=(0, 10), input_process=get_mental_math)\n",
    "#generate_mental_math(30, ['+'], 3, m=(0, 100), n=(0, 10))\n",
    "#generate_mental_math(30, ['*'], 3, m=(0, 10), n=(0, 10))\n",
    "#generate_mental_math(120, ['*'], 3, m=(1, 13), n=(1, 10), input_process=get_mental_math)\n",
    "#generate_mental_math(30, ['*'], 3, m=(0, 10), n=(0, 10))\n",
    "#generate_mental_math(120, ['*'], input_process=get_mental_math, m=(0, 21), n=(0, 11))\n",
    "\n",
    "#generate_mental_math(10, ['+', '-'], 3, m=(0, 100), n=(0, 100))\n",
    "#generate_mental_math(10, ['//'], 3, m=(0, 100), n=(0, 11))"
   ]
  },
  {
   "cell_type": "markdown",
   "metadata": {},
   "source": [
    "# Daily Exercise"
   ]
  },
  {
   "cell_type": "code",
   "execution_count": 104,
   "metadata": {},
   "outputs": [
    {
     "name": "stdout",
     "output_type": "stream",
     "text": [
      "1 >     84 - 83 = 1\n",
      "  YES!\n",
      "2 >     48 + 73 = 121\n",
      "  YES!\n",
      "3 >     34 + 37 = 71\n",
      "  YES!\n",
      "4 >     82 + 55 = 137\n",
      "  YES!\n",
      "5 >     69 + 58 = 127\n",
      "  YES!\n",
      "6 >     31 + 80 = 111\n",
      "  YES!\n",
      "7 >     95 - 76 = 19\n",
      "  YES!\n",
      "8 >     53 - 7 = 45\n",
      "again, 8 >     53 - 7 = 46\n",
      "  YES!\n",
      "9 >     67 - 56 = 11\n",
      "  YES!\n",
      "10 >     80 + 23 = 103\n",
      "  YES!\n",
      "11 >     65 - 17 = 48\n",
      "  YES!\n",
      "12 >     75 + 92 = 167\n",
      "  YES!\n",
      "13 >     33 - 80 = -47\n",
      "  YES!\n",
      "14 >     9 + 59 = 68\n",
      "  YES!\n",
      "15 >     59 + 69 = 128\n",
      "  YES!\n",
      "16 >     37 - 99 = -62\n",
      "  YES!\n",
      "17 >     28 - 32 = -4\n",
      "  YES!\n",
      "18 >     60 + 67 = 127\n",
      "  YES!\n",
      "19 >     35 - 30 = 5\n",
      "  YES!\n",
      "20 >     58 - 15 = 43\n",
      "  YES!\n",
      "That's all folks!\n"
     ]
    }
   ],
   "source": [
    "generate_mental_math(10, ['+', '-'], 3, m=(0, 100), n=(0, 100))"
   ]
  },
  {
   "cell_type": "code",
   "execution_count": 103,
   "metadata": {},
   "outputs": [
    {
     "name": "stdout",
     "output_type": "stream",
     "text": [
      "1 >     12 * 9 = 108\n",
      "  YES!\n",
      "2 >     9 * 5 = 45\n",
      "  YES!\n",
      "3 >     8 * 7 = 56\n",
      "  YES!\n",
      "4 >     6 * 9 = 54\n",
      "  YES!\n",
      "5 >     6 * 3 = 18\n",
      "  YES!\n",
      "6 >     2 * 2 = 4\n",
      "  YES!\n",
      "7 >     4 * 3 = 12\n",
      "  YES!\n",
      "8 >     3 * 3 = 9\n",
      "  YES!\n",
      "9 >     8 * 3 = 24\n",
      "  YES!\n",
      "10 >     3 * 5 = 15\n",
      "  YES!\n",
      "11 >     6 * 8 = 48\n",
      "  YES!\n",
      "12 >     2 * 4 = 8\n",
      "  YES!\n",
      "13 >     6 * 5 = 39\n",
      "again, 13 >     6 * 5 = 30\n",
      "  YES!\n",
      "14 >     9 * 5 = 45\n",
      "  YES!\n",
      "15 >     12 * 3 = 36\n",
      "  YES!\n",
      "16 >     8 * 8 = 64\n",
      "  YES!\n",
      "17 >     4 * 2 = 8\n",
      "  YES!\n",
      "18 >     4 * 7 = 28\n",
      "  YES!\n",
      "19 >     12 * 5 = 60\n",
      "  YES!\n",
      "20 >     3 * 5 = 15\n",
      "  YES!\n",
      "That's all folks!\n"
     ]
    }
   ],
   "source": [
    "generate_mental_math(20, ['*'], 3, m=(1, 13), n=(1, 10))"
   ]
  },
  {
   "cell_type": "code",
   "execution_count": 102,
   "metadata": {},
   "outputs": [
    {
     "name": "stdout",
     "output_type": "stream",
     "text": [
      "1 >     19 * 8 = 152\n",
      "  YES!\n",
      "2 >     16 * 8 = 128\n",
      "  YES!\n",
      "3 >     16 * 4 = 64\n",
      "  YES!\n",
      "4 >     15 * 3 = 45\n",
      "  YES!\n",
      "5 >     17 * 5 = 80\n",
      "again, 5 >     17 * 5 = 85\n",
      "  YES!\n",
      "6 >     18 * 9 = 162\n",
      "  YES!\n",
      "7 >     13 * 9 = 117\n",
      "  YES!\n",
      "8 >     12 * 8 = 96\n",
      "  YES!\n",
      "9 >     19 * 5 = 95\n",
      "  YES!\n",
      "10 >     13 * 9 = 117\n",
      "  YES!\n",
      "That's all folks!\n"
     ]
    }
   ],
   "source": [
    "generate_mental_math(10, ['*'], 3, m=(11, 21), n=(1, 10))"
   ]
  },
  {
   "cell_type": "code",
   "execution_count": 101,
   "metadata": {},
   "outputs": [
    {
     "name": "stdout",
     "output_type": "stream",
     "text": [
      "1 >     36 // 12 = 3\n",
      "  YES!\n",
      "2 >     24 // 12 = 2\n",
      "  YES!\n",
      "3 >     36 // 12 = 3\n",
      "  YES!\n",
      "4 >     162 // 18 = 9\n",
      "  YES!\n",
      "5 >     171 // 19 = 9\n",
      "  YES!\n",
      "6 >     75 // 15 = 5\n",
      "  YES!\n",
      "7 >     65 // 13 = 5\n",
      "  YES!\n",
      "8 >     84 // 14 = 6\n",
      "  YES!\n",
      "9 >     126 // 18 = 7\n",
      "  YES!\n",
      "10 >     36 // 12 = 3\n",
      "  YES!\n",
      "11 >     39 // 13 = 3\n",
      "  YES!\n",
      "12 >     36 // 12 = 3\n",
      "  YES!\n",
      "13 >     90 // 18 = 5\n",
      "  YES!\n",
      "14 >     90 // 18 = 5\n",
      "  YES!\n",
      "15 >     96 // 12 = 8\n",
      "  YES!\n",
      "16 >     26 // 13 = 2\n",
      "  YES!\n",
      "17 >     108 // 12 = 9\n",
      "  YES!\n",
      "18 >     96 // 16 = 6\n",
      "  YES!\n",
      "19 >     30 // 15 = 2\n",
      "  YES!\n",
      "20 >     36 // 18 = 2\n",
      "  YES!\n",
      "That's all folks!\n"
     ]
    }
   ],
   "source": [
    "generate_mental_math(20, ['//'], 3, m=(1, 11), n=(11, 20))"
   ]
  },
  {
   "cell_type": "code",
   "execution_count": 100,
   "metadata": {},
   "outputs": [
    {
     "name": "stdout",
     "output_type": "stream",
     "text": [
      "1 >     89 / 6 = 14.833333334\n",
      "  YES!\n",
      "2 >     94 / 8 = 11.75\n",
      "  YES!\n",
      "3 >     17 / 6 = 2.83333333334\n",
      "  YES!\n",
      "4 >     66 / 7 = 9.4285714\n",
      "  YES!\n",
      "5 >     31 / 9 = 3.555555556\n",
      "again, 5 >     31 / 9 = 3.4444445\n",
      "  YES!\n",
      "6 >     75 / 3 = 25\n",
      "  YES!\n",
      "7 >     61 / 7 = 8.7142857\n",
      "  YES!\n",
      "8 >     36 / 9 = 4\n",
      "  YES!\n",
      "9 >     82 / 8 = 10.25\n",
      "  YES!\n",
      "10 >     70 / 5 = 14\n",
      "  YES!\n",
      "That's all folks!\n"
     ]
    }
   ],
   "source": [
    "generate_mental_math(10, ['/'], 3, m=(1, 100), n=(1, 11))"
   ]
  },
  {
   "cell_type": "code",
   "execution_count": 99,
   "metadata": {},
   "outputs": [
    {
     "name": "stdout",
     "output_type": "stream",
     "text": [
      "  8 x   1 =   8      eight x   one-za =                     eight\n",
      "  8 x   2 =  16      eight x   two-za =                   sixteen\n",
      "  8 x   3 =  24      eight x three-za =               twenty four\n",
      "  8 x   4 =  32      eight x  four-za =                thirty two\n",
      "  8 x   5 =  40      eight x  five-za =                     forty\n",
      "  8 x   6 =  48      eight x   six-za =               forty eight\n",
      "  8 x   7 =  56      eight x seven-za =                 fifty six\n",
      "  8 x   8 =  64      eight x eight-za =                sixty four\n",
      "  8 x   9 =  72      eight x  nine-za =               seventy two\n",
      "  8 x  10 =  80      eight x   ten-za =                    eighty\n"
     ]
    }
   ],
   "source": [
    "multiplied(np.random.randint(2, 11))"
   ]
  },
  {
   "cell_type": "code",
   "execution_count": 98,
   "metadata": {},
   "outputs": [
    {
     "name": "stdout",
     "output_type": "stream",
     "text": [
      " 19 x   1 =  19      nineteen x   one-za =                  nineteen\n",
      " 19 x   2 =  38      nineteen x   two-za =              thirty eight\n",
      " 19 x   3 =  57      nineteen x three-za =               fifty seven\n",
      " 19 x   4 =  76      nineteen x  four-za =               seventy six\n",
      " 19 x   5 =  95      nineteen x  five-za =               nintey five\n",
      " 19 x   6 = 114      nineteen x   six-za =      one hundred fourteen\n",
      " 19 x   7 = 133      nineteen x seven-za =  one hundred thirty three\n",
      " 19 x   8 = 152      nineteen x eight-za =     one hundred fifty two\n",
      " 19 x   9 = 171      nineteen x  nine-za =   one hundred seventy one\n",
      " 19 x  10 = 190      nineteen x   ten-za =        one hundred nintey\n"
     ]
    }
   ],
   "source": [
    "multiplied(np.random.randint(11, 21))"
   ]
  }
 ],
 "metadata": {
  "kernelspec": {
   "display_name": "Python 3",
   "language": "python",
   "name": "python3"
  },
  "language_info": {
   "codemirror_mode": {
    "name": "ipython",
    "version": 3
   },
   "file_extension": ".py",
   "mimetype": "text/x-python",
   "name": "python",
   "nbconvert_exporter": "python",
   "pygments_lexer": "ipython3",
   "version": "3.7.5"
  }
 },
 "nbformat": 4,
 "nbformat_minor": 2
}
