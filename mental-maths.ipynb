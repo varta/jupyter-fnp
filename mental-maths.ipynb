{
 "cells": [
  {
   "cell_type": "markdown",
   "metadata": {},
   "source": [
    "# Random Operations"
   ]
  },
  {
   "cell_type": "markdown",
   "metadata": {},
   "source": [
    "### Timer Decorators"
   ]
  },
  {
   "cell_type": "markdown",
   "metadata": {},
   "source": [
    "#### _Timer Decorators -- archive_"
   ]
  },
  {
   "cell_type": "code",
   "execution_count": 5,
   "metadata": {},
   "outputs": [
    {
     "name": "stdout",
     "output_type": "stream",
     "text": [
      "*\n",
      "*\n",
      "*\n",
      "Time:  0h  0m  3s\n"
     ]
    }
   ],
   "source": [
    "import time\n",
    "def decorator_timer(func, *args, **nargs):\n",
    "    def func_wrapper():\n",
    "        s1 = time.time()\n",
    "        func(*args, **nargs)\n",
    "        s2 = time.time()\n",
    "        s = s2 - s1\n",
    "        print(\"Time: %2dh %2dm %2ds\" %(s//3600, (s-3600*(s//3600))//60, (s-60*(s//60))))\n",
    "\n",
    "    return func_wrapper\n",
    "\n",
    "def tmp(n=5):\n",
    "    for i in range(n):\n",
    "        print('*')\n",
    "        time.sleep(1)\n",
    "        \n",
    "dectmp = decorator_timer(tmp, n=3)\n",
    "dectmp()"
   ]
  },
  {
   "cell_type": "code",
   "execution_count": 6,
   "metadata": {},
   "outputs": [
    {
     "name": "stdout",
     "output_type": "stream",
     "text": [
      "*\n",
      "*\n",
      "*\n",
      "*\n",
      "*\n",
      "Time:  0h  0m  5s\n"
     ]
    }
   ],
   "source": [
    "import functools\n",
    "import time\n",
    "\n",
    "def timer(func):\n",
    "    @functools.wraps(func)\n",
    "    def wrapper_func(*args, **kwargs):\n",
    "        s1 = time.time()\n",
    "        val = func(*args, **kwargs)\n",
    "        s2 = time.time()\n",
    "        s = s2 - s1\n",
    "        print(\"Time: %2dh %2dm %2ds\" %(s//3600, (s-3600*(s//3600))//60, (s-60*(s//60))))\n",
    "        return val\n",
    "    return wrapper_func\n",
    "\n",
    "@timer\n",
    "def work(n=5):\n",
    "    for i in range(n):\n",
    "        print('*')\n",
    "        time.sleep(1)\n",
    "\n",
    "work()"
   ]
  },
  {
   "cell_type": "code",
   "execution_count": 41,
   "metadata": {
    "scrolled": false
   },
   "outputs": [],
   "source": [
    "import numpy as np\n",
    "import random\n",
    "\n",
    "def xx(m=0, n=10, exclude=set([0, 1])):\n",
    "    assert not set(range(m, n)).issubset(exclude)\n",
    "    while True:\n",
    "        x = np.random.randint(m, n)\n",
    "        if x not in exclude:\n",
    "            return x    \n",
    "    \n",
    "def sums(m=10, n=10, ml=0, nl=0, op='+', exclude=set([0, 1])):\n",
    "    y = xx(nl, n, exclude)\n",
    "    x = xx(ml, m, exclude)\n",
    "    if op == '+':\n",
    "        r = x + y\n",
    "    elif op == '-':\n",
    "        r = x - y\n",
    "    elif op == '*' or op == 'x':\n",
    "        r = x * y\n",
    "    elif op == '/':\n",
    "        r = x / y\n",
    "    elif op == '% of ':\n",
    "        r = x * y / 100\n",
    "    elif op == '//':\n",
    "        r = x\n",
    "        x *= y\n",
    "        #while (x // y) != (x / y):\n",
    "        #    x = xx(ml, m, exclude)\n",
    "        #r = x // y\n",
    "    elif op == '///':\n",
    "        assert y != 0\n",
    "        r = x / y\n",
    "        # pick one amongst / and //\n",
    "        rr = random.randint(0, 1)\n",
    "        if rr:\n",
    "            while r != (x // y):\n",
    "                x = xx(ml, m, exclude)\n",
    "                r = x / y\n",
    "\n",
    "    return x, y, r\n",
    "\n",
    "def user_to_int(user_input, decimal_places=4):\n",
    "    fmt = '%%.%sf' % decimal_places\n",
    "    try:\n",
    "        user_input = float(fmt % float(user_input))\n",
    "    except:\n",
    "        user_input = None\n",
    "    return user_input\n",
    "\n",
    "def get_verified_input(x, y, r, op, index):\n",
    "    chances = 0\n",
    "    while True:\n",
    "        print(index, '>    ', x, op, y, '=', end=' ')\n",
    "        user_input = user_to_int(input())\n",
    "        result_compare = float('%.4f' % r)\n",
    "        if user_input == result_compare: # ALERT: since we only compare 4 decimals!!!\n",
    "            break\n",
    "        print('again, ', end='')\n",
    "        chances += 1\n",
    "    if user_input == result_compare:\n",
    "        print('  YES!')\n",
    "    else:\n",
    "        print('  '. user_input, ' is WRONG.', x, ' ', op, ' ', y, ' = ', result_compare,'\\m\\n')\n",
    "\n",
    "def get_mental_math(x, y, r, op, index):\n",
    "    print(index, '>    ', x, op, y, '=', end=' ')\n",
    "    result_discard = input()\n",
    "    print(r)\n",
    "    \n",
    "@timer\n",
    "def generate_mental_math(\n",
    "        sums_per_operator = 5,\n",
    "        operators = ['+', '-', '/', '*', '% of ', '//'],\n",
    "        max_chances = 3,\n",
    "        m = (0, 10),    \n",
    "        n = (0, 10),\n",
    "        input_process=get_verified_input,\n",
    "        exclude=set([0, 1, 10, 11, 20]),\n",
    "        unique=True):\n",
    "    \n",
    "    opsums = operators * sums_per_operator\n",
    "    np.random.shuffle(opsums)\n",
    "    previous_sums = set()\n",
    "    for i in range(len(opsums)):\n",
    "        op = opsums[i]\n",
    "        while True:\n",
    "            x, y, r = sums(m[1], n[1], ml=m[0], nl=n[0], op=op, exclude=exclude)\n",
    "            if not unique:\n",
    "                break\n",
    "            if (op, x, y, r) not in previous_sums:\n",
    "                previous_sums.add((op, x, y, r))\n",
    "                break\n",
    "        input_process(x, y, r, op, i+1)\n",
    "    print('That\\'s all folks!')"
   ]
  },
  {
   "cell_type": "markdown",
   "metadata": {},
   "source": [
    "# Int to String Transformation"
   ]
  },
  {
   "cell_type": "code",
   "execution_count": 18,
   "metadata": {},
   "outputs": [],
   "source": [
    "# https://stackoverflow.com/a/35416917\n",
    "def int_to_en_legacy(num):\n",
    "    d = { 0 : 'zero', 1 : 'one', 2 : 'two', 3 : 'three', 4 : 'four', 5 : 'five', \\\n",
    "          6 : 'six', 7 : 'seven', 8 : 'eight', 9 : 'nine', 10 : 'ten', \\\n",
    "          11 : 'eleven', 12 : 'twelve', 13 : 'thirteen', 14 : 'fourteen', \\\n",
    "          15 : 'fifteen', 16 : 'sixteen', 17 : 'seventeen', 18 : 'eighteen', \\\n",
    "          19 : 'ninteen', 20 : 'twenty', \\\n",
    "          30 : 'thirty', 40 : 'fourth', 50 : 'fifty', 60 : 'sixty', \\\n",
    "          70 : 'seventy', 80 : 'eighty', 90 : 'ninty' }\n",
    "    k = 1000\n",
    "    m = k * 1000\n",
    "\n",
    "    if (num < 20):\n",
    "        return d[num]\n",
    "\n",
    "    if (num < 100):\n",
    "        if num % 10 == 0:\n",
    "            return d[num]\n",
    "        else:\n",
    "            return d[num // 10 * 10] + ' ' + d[num % 10]\n",
    "\n",
    "    if (num < k):\n",
    "        if num % 100 == 0:\n",
    "            return d[num // 100] + ' hundred'\n",
    "        else:\n",
    "            return d[num // 100] + ' hundred ' + int_to_en(num % 100)\n",
    "    if (num < m):\n",
    "        if num % k == 0:\n",
    "            return int_to_en(num // k) + ' thousand'\n",
    "        else:\n",
    "            return int_to_en(num // k) + ' thousand, ' + int_to_en(num % k)\n",
    "\n",
    "def int_to_en(x):\n",
    "    if x < 0:\n",
    "        return '-' + int_to_en(-x)\n",
    "    \n",
    "    INT_TO_EN = {\n",
    "        0: 'zero',\n",
    "        1: 'one', 2: 'two', 3: 'three', 4: 'four', 5: 'five',\n",
    "        6: 'six', 7: 'seven', 8: 'eight', 9: 'nine',\n",
    "        10: 'ten',\n",
    "        11: 'eleven', 12: 'twelve', 13: 'thirteen', 14: 'fourteen', 15: 'fifteen',\n",
    "        16: 'sixteen', 17: 'seventeen', 18: 'eighteen', 19: 'nineteen',\n",
    "        20: 'twenty',\n",
    "        30: 'thirty', 40: 'forty', 50: 'fifty', 60: 'sixty', 70: 'seventy', 80: 'eighty', 90: 'nintey',\n",
    "        100: 'hundred',\n",
    "        1000: 'thousand',\n",
    "        1000000: 'million',\n",
    "    }\n",
    "    \n",
    "    def point(wf):\n",
    "        return '' if wf == 'zero' else \" \" + wf\n",
    "\n",
    "    if x < 20:\n",
    "        return INT_TO_EN[x]\n",
    "    \n",
    "    if x < 100:\n",
    "        if x % 10 == 0:\n",
    "            return INT_TO_EN[x]\n",
    "        return INT_TO_EN[10 * (x // 10)] + \" \" + INT_TO_EN[x % 10]\n",
    "    \n",
    "    if x < 1000:\n",
    "        return INT_TO_EN[x // 100] + \" \" + INT_TO_EN[100] + point(int_to_en(x % 100))\n",
    "    \n",
    "    if x < 1000000:\n",
    "        return int_to_en(x // 1000) + \" \" + INT_TO_EN[1000] + point(int_to_en(x % 1000))"
   ]
  },
  {
   "cell_type": "markdown",
   "metadata": {},
   "source": [
    "# Multiplication Tables"
   ]
  },
  {
   "cell_type": "code",
   "execution_count": 19,
   "metadata": {},
   "outputs": [],
   "source": [
    "def multiplied(x, l=10, spaces=''):\n",
    "    for r in range(1, l+1):\n",
    "        print(\"%s%3s x %3s = %3s      %5s x %5s-za = %25s\" % (spaces, x, r, r * x, int_to_en(x), int_to_en(r), int_to_en(r*x)))\n",
    "\n",
    "def multiplicating_table(x, l=10, int_begin=2):\n",
    "    for r in range(int_begin, x+1):\n",
    "        print(int_to_en(r))\n",
    "        multiplied(r, l, spaces='\\t')\n",
    "        print('\\n\\n\\n')"
   ]
  },
  {
   "cell_type": "markdown",
   "metadata": {},
   "source": [
    "### Multiplication Tables Short Form"
   ]
  },
  {
   "cell_type": "code",
   "execution_count": 20,
   "metadata": {
    "scrolled": false
   },
   "outputs": [
    {
     "name": "stdout",
     "output_type": "stream",
     "text": [
      "\n",
      "\n",
      "          2      3      4      5      6      7      8      9     10\n",
      "-------------------------------------------------------------------\n",
      "x  1      2      3      4      5      6      7      8      9     10\n",
      "x  2      4      6      8     10     12     14     16     18     20\n",
      "x  3      6      9     12     15     18     21     24     27     30\n",
      "x  4      8     12     16     20     24     28     32     36     40\n",
      "x  5     10     15     20     25     30     35     40     45     50\n",
      "x  6     12     18     24     30     36     42     48     54     60\n",
      "x  7     14     21     28     35     42     49     56     63     70\n",
      "x  8     16     24     32     40     48     56     64     72     80\n",
      "x  9     18     27     36     45     54     63     72     81     90\n",
      "x 10     20     30     40     50     60     70     80     90    100\n",
      "\n",
      "\n",
      "\n",
      "\n",
      "         11     12     13     14     15     16     17     18     19\n",
      "-------------------------------------------------------------------\n",
      "x  1     11     12     13     14     15     16     17     18     19\n",
      "x  2     22     24     26     28     30     32     34     36     38\n",
      "x  3     33     36     39     42     45     48     51     54     57\n",
      "x  4     44     48     52     56     60     64     68     72     76\n",
      "x  5     55     60     65     70     75     80     85     90     95\n",
      "x  6     66     72     78     84     90     96    102    108    114\n",
      "x  7     77     84     91     98    105    112    119    126    133\n",
      "x  8     88     96    104    112    120    128    136    144    152\n",
      "x  9     99    108    117    126    135    144    153    162    171\n",
      "x 10    110    120    130    140    150    160    170    180    190\n",
      "\n",
      "\n"
     ]
    }
   ],
   "source": [
    "def multiplication_table(n, e):\n",
    "    print('')\n",
    "    print('')\n",
    "    # multiplication table of n to e\n",
    "    print('    ' + ''.join(['  %5.0f'  % idx for idx in range(n, e)]))\n",
    "    print('-' * (4+7*(e-n)))\n",
    "    for idx in range(1, 11):\n",
    "        print('x%3.0f' % idx + ''.join(['  %5.0f' % (jdx * idx) for jdx in range(n, e)]))\n",
    "    print('')        \n",
    "    print('')\n",
    "    \n",
    "ntuple = 9\n",
    "for idx in range(2, 20, ntuple):\n",
    "    multiplication_table(idx, idx+ntuple)"
   ]
  },
  {
   "cell_type": "markdown",
   "metadata": {},
   "source": [
    "### Random Operations Examples"
   ]
  },
  {
   "cell_type": "code",
   "execution_count": 21,
   "metadata": {},
   "outputs": [],
   "source": [
    "#generate_mental_math(2, ['*'], 3, m=(0, 10), n=(0, 10))\n",
    "#generate_mental_math(30, ['+', '-'], 3)\n",
    "#generate_mental_math(30, ['+', '-'], 3, m=(5, 10))\n",
    "#generate_mental_math(120, ['+'], 3, m=(0, 10), n=(0, 10), input_process=get_mental_math)\n",
    "#generate_mental_math(30, ['+'], 3, m=(0, 100), n=(0, 10))\n",
    "#generate_mental_math(30, ['*'], 3, m=(0, 10), n=(0, 10))\n",
    "#generate_mental_math(120, ['*'], 3, m=(1, 13), n=(1, 10), input_process=get_mental_math)\n",
    "#generate_mental_math(30, ['*'], 3, m=(0, 10), n=(0, 10))\n",
    "#generate_mental_math(120, ['*'], input_process=get_mental_math, m=(0, 21), n=(0, 11))\n",
    "\n",
    "#generate_mental_math(10, ['+', '-'], 3, m=(0, 100), n=(0, 100))\n",
    "#generate_mental_math(10, ['//'], 3, m=(0, 100), n=(0, 11))"
   ]
  },
  {
   "cell_type": "markdown",
   "metadata": {},
   "source": [
    "# Daily Exercise"
   ]
  },
  {
   "cell_type": "code",
   "execution_count": 69,
   "metadata": {},
   "outputs": [
    {
     "name": "stdout",
     "output_type": "stream",
     "text": [
      "1 >     56 - 40 = 16\n",
      "  YES!\n",
      "2 >     67 - 8 = 59\n",
      "  YES!\n",
      "3 >     53 - 41 = 12\n",
      "  YES!\n",
      "4 >     78 - 95 = -17\n",
      "  YES!\n",
      "5 >     7 + 8 = 15\n",
      "  YES!\n",
      "6 >     19 - 58 = -39\n",
      "  YES!\n",
      "7 >     89 + 6 = 95\n",
      "  YES!\n",
      "8 >     38 + 52 = 90\n",
      "  YES!\n",
      "9 >     76 + 15 = 91\n",
      "  YES!\n",
      "10 >     62 + 85 = 147\n",
      "  YES!\n",
      "11 >     26 - 96 = -70\n",
      "  YES!\n",
      "12 >     95 + 81 = 176\n",
      "  YES!\n",
      "13 >     58 + 52 = 110\n",
      "  YES!\n",
      "14 >     79 + 32 = 111\n",
      "  YES!\n",
      "15 >     98 - 14 = 84\n",
      "  YES!\n",
      "16 >     54 + 14 = 68\n",
      "  YES!\n",
      "17 >     96 - 73 = 23\n",
      "  YES!\n",
      "18 >     77 - 21 = 56\n",
      "  YES!\n",
      "19 >     59 + 32 = 91\n",
      "  YES!\n",
      "20 >     52 - 42 = 10\n",
      "  YES!\n",
      "That's all folks!\n",
      "Time:  0h  2m 34s\n"
     ]
    }
   ],
   "source": [
    "generate_mental_math(10, ['+', '-'], 3, m=(0, 100), n=(0, 100))"
   ]
  },
  {
   "cell_type": "code",
   "execution_count": 23,
   "metadata": {},
   "outputs": [],
   "source": [
    "#generate_mental_math(20, ['*'], 3, m=(1, 13), n=(1, 10))\n",
    "#generate_mental_math(20, ['*'], 3, m=(11, 21), n=(1, 10))"
   ]
  },
  {
   "cell_type": "code",
   "execution_count": 68,
   "metadata": {},
   "outputs": [
    {
     "name": "stdout",
     "output_type": "stream",
     "text": [
      "1 >     7 * 5 = 35\n",
      "  YES!\n",
      "2 >     8 * 6 = 48\n",
      "  YES!\n",
      "3 >     2 * 9 = 18\n",
      "  YES!\n",
      "4 >     8 * 8 = 64\n",
      "  YES!\n",
      "5 >     2 * 3 = 6\n",
      "  YES!\n",
      "6 >     6 * 4 = 24\n",
      "  YES!\n",
      "7 >     9 * 6 = 54\n",
      "  YES!\n",
      "8 >     17 * 4 = 68\n",
      "  YES!\n",
      "9 >     3 * 2 = 6\n",
      "  YES!\n",
      "10 >     18 * 7 = 126\n",
      "  YES!\n",
      "11 >     9 * 2 = 18\n",
      "  YES!\n",
      "12 >     7 * 7 = 49\n",
      "  YES!\n",
      "13 >     16 * 7 = 114\n",
      "again, 13 >     16 * 7 = 112\n",
      "  YES!\n",
      "14 >     19 * 7 = 133\n",
      "  YES!\n",
      "15 >     15 * 4 = 60\n",
      "  YES!\n",
      "16 >     6 * 3 = 12\n",
      "again, 16 >     6 * 3 = 18\n",
      "  YES!\n",
      "17 >     6 * 7 = 54\n",
      "again, 17 >     6 * 7 = 42\n",
      "  YES!\n",
      "18 >     2 * 5 = 10\n",
      "  YES!\n",
      "19 >     18 * 2 = 36\n",
      "  YES!\n",
      "20 >     2 * 4 = 8\n",
      "  YES!\n",
      "That's all folks!\n",
      "Time:  0h  2m  6s\n"
     ]
    }
   ],
   "source": [
    "generate_mental_math(20, ['*'], 3, m=(1, 21), n=(1, 10))"
   ]
  },
  {
   "cell_type": "code",
   "execution_count": 67,
   "metadata": {},
   "outputs": [
    {
     "name": "stdout",
     "output_type": "stream",
     "text": [
      "1 >     36 // 12 = 3\n",
      "  YES!\n",
      "2 >     70 // 14 = 5\n",
      "  YES!\n",
      "3 >     26 // 13 = 2\n",
      "  YES!\n",
      "4 >     38 // 19 = 2\n",
      "  YES!\n",
      "5 >     78 // 13 = 6\n",
      "  YES!\n",
      "6 >     144 // 18 = 8\n",
      "  YES!\n",
      "7 >     90 // 18 = 5\n",
      "  YES!\n",
      "8 >     84 // 14 = 6\n",
      "  YES!\n",
      "9 >     45 // 15 = 3\n",
      "  YES!\n",
      "10 >     24 // 12 = 2\n",
      "  YES!\n",
      "That's all folks!\n",
      "Time:  0h  0m 36s\n"
     ]
    }
   ],
   "source": [
    "generate_mental_math(10, ['//'], 3, m=(1, 11), n=(11, 20))"
   ]
  },
  {
   "cell_type": "code",
   "execution_count": 66,
   "metadata": {},
   "outputs": [
    {
     "name": "stdout",
     "output_type": "stream",
     "text": [
      "1 >     80 / 9 = 8.6666667\n",
      "again, 1 >     80 / 9 = 8.777777778\n",
      "again, 1 >     80 / 9 = 8.888888889\n",
      "  YES!\n",
      "2 >     16 / 8 = 2\n",
      "  YES!\n",
      "3 >     73 / 5 = 14.6\n",
      "  YES!\n",
      "4 >     97 / 9 = 10.7777778\n",
      "  YES!\n",
      "5 >     5 / 9 = 0.55555556\n",
      "  YES!\n",
      "6 >     38 / 8 = 4.5\n",
      "again, 6 >     38 / 8 = 4.75\n",
      "  YES!\n",
      "7 >     42 / 7 = 6\n",
      "  YES!\n",
      "8 >     87 / 5 = 17.4\n",
      "  YES!\n",
      "9 >     93 / 5 = 18.6\n",
      "  YES!\n",
      "10 >     28 / 7 = 4\n",
      "  YES!\n",
      "11 >     92 / 4 = 23\n",
      "  YES!\n",
      "12 >     17 / 4 = 4.25\n",
      "  YES!\n",
      "13 >     61 / 9 = 6.7777778\n",
      "  YES!\n",
      "14 >     28 / 2 = 14\n",
      "  YES!\n",
      "15 >     80 / 8 = 10\n",
      "  YES!\n",
      "16 >     77 / 5 = 15.4\n",
      "  YES!\n",
      "17 >     50 / 2 = 25\n",
      "  YES!\n",
      "18 >     8 / 5 = 1.6\n",
      "  YES!\n",
      "19 >     79 / 4 = 19.75\n",
      "  YES!\n",
      "20 >     39 / 6 = 6.5\n",
      "  YES!\n",
      "That's all folks!\n",
      "Time:  0h  6m 36s\n"
     ]
    }
   ],
   "source": [
    "generate_mental_math(20, ['/'], 3, m=(1, 100), n=(1, 11))"
   ]
  },
  {
   "cell_type": "code",
   "execution_count": 27,
   "metadata": {},
   "outputs": [],
   "source": [
    "#generate_mental_math(20, ['///'], 3, m=(1, 100), n=(1, 11))"
   ]
  },
  {
   "cell_type": "code",
   "execution_count": 65,
   "metadata": {},
   "outputs": [
    {
     "name": "stdout",
     "output_type": "stream",
     "text": [
      "  6 x   1 =   6        six x   one-za =                       six\n",
      "  6 x   2 =  12        six x   two-za =                    twelve\n",
      "  6 x   3 =  18        six x three-za =                  eighteen\n",
      "  6 x   4 =  24        six x  four-za =               twenty four\n",
      "  6 x   5 =  30        six x  five-za =                    thirty\n",
      "  6 x   6 =  36        six x   six-za =                thirty six\n",
      "  6 x   7 =  42        six x seven-za =                 forty two\n",
      "  6 x   8 =  48        six x eight-za =               forty eight\n",
      "  6 x   9 =  54        six x  nine-za =                fifty four\n",
      "  6 x  10 =  60        six x   ten-za =                     sixty\n",
      "\n",
      "  9 x   1 =   9       nine x   one-za =                      nine\n",
      "  9 x   2 =  18       nine x   two-za =                  eighteen\n",
      "  9 x   3 =  27       nine x three-za =              twenty seven\n",
      "  9 x   4 =  36       nine x  four-za =                thirty six\n",
      "  9 x   5 =  45       nine x  five-za =                forty five\n",
      "  9 x   6 =  54       nine x   six-za =                fifty four\n",
      "  9 x   7 =  63       nine x seven-za =               sixty three\n",
      "  9 x   8 =  72       nine x eight-za =               seventy two\n",
      "  9 x   9 =  81       nine x  nine-za =                eighty one\n",
      "  9 x  10 =  90       nine x   ten-za =                    nintey\n",
      "\n"
     ]
    }
   ],
   "source": [
    "for i in range(2):\n",
    "    multiplied(np.random.randint(2, 10))\n",
    "    print()"
   ]
  },
  {
   "cell_type": "code",
   "execution_count": 64,
   "metadata": {},
   "outputs": [
    {
     "name": "stdout",
     "output_type": "stream",
     "text": [
      " 16 x   1 =  16      sixteen x   one-za =                   sixteen\n",
      " 16 x   2 =  32      sixteen x   two-za =                thirty two\n",
      " 16 x   3 =  48      sixteen x three-za =               forty eight\n",
      " 16 x   4 =  64      sixteen x  four-za =                sixty four\n",
      " 16 x   5 =  80      sixteen x  five-za =                    eighty\n",
      " 16 x   6 =  96      sixteen x   six-za =                nintey six\n",
      " 16 x   7 = 112      sixteen x seven-za =        one hundred twelve\n",
      " 16 x   8 = 128      sixteen x eight-za =  one hundred twenty eight\n",
      " 16 x   9 = 144      sixteen x  nine-za =    one hundred forty four\n",
      " 16 x  10 = 160      sixteen x   ten-za =         one hundred sixty\n",
      "\n",
      " 15 x   1 =  15      fifteen x   one-za =                   fifteen\n",
      " 15 x   2 =  30      fifteen x   two-za =                    thirty\n",
      " 15 x   3 =  45      fifteen x three-za =                forty five\n",
      " 15 x   4 =  60      fifteen x  four-za =                     sixty\n",
      " 15 x   5 =  75      fifteen x  five-za =              seventy five\n",
      " 15 x   6 =  90      fifteen x   six-za =                    nintey\n",
      " 15 x   7 = 105      fifteen x seven-za =          one hundred five\n",
      " 15 x   8 = 120      fifteen x eight-za =        one hundred twenty\n",
      " 15 x   9 = 135      fifteen x  nine-za =   one hundred thirty five\n",
      " 15 x  10 = 150      fifteen x   ten-za =         one hundred fifty\n",
      "\n"
     ]
    }
   ],
   "source": [
    "for _ in range(2):\n",
    "    multiplied(np.random.randint(12, 20))\n",
    "    print()\n",
    "\n",
    "#generate_mental_math(2, ['*'], 3, m=(8, 9), n=(1, 10), unique=False)"
   ]
  },
  {
   "cell_type": "code",
   "execution_count": null,
   "metadata": {},
   "outputs": [],
   "source": []
  }
 ],
 "metadata": {
  "kernelspec": {
   "display_name": "Python 3",
   "language": "python",
   "name": "python3"
  },
  "language_info": {
   "codemirror_mode": {
    "name": "ipython",
    "version": 3
   },
   "file_extension": ".py",
   "mimetype": "text/x-python",
   "name": "python",
   "nbconvert_exporter": "python",
   "pygments_lexer": "ipython3",
   "version": "3.7.5"
  }
 },
 "nbformat": 4,
 "nbformat_minor": 2
}
