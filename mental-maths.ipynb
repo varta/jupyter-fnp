{
 "cells": [
  {
   "cell_type": "markdown",
   "metadata": {},
   "source": [
    "# Random Operations"
   ]
  },
  {
   "cell_type": "markdown",
   "metadata": {},
   "source": [
    "### Timer Decorators"
   ]
  },
  {
   "cell_type": "markdown",
   "metadata": {},
   "source": [
    "#### _Timer Decorators -- archive_"
   ]
  },
  {
   "cell_type": "code",
   "execution_count": 5,
   "metadata": {},
   "outputs": [
    {
     "name": "stdout",
     "output_type": "stream",
     "text": [
      "*\n",
      "*\n",
      "*\n",
      "Time:  0h  0m  3s\n"
     ]
    }
   ],
   "source": [
    "import time\n",
    "def decorator_timer(func, *args, **nargs):\n",
    "    def func_wrapper():\n",
    "        s1 = time.time()\n",
    "        func(*args, **nargs)\n",
    "        s2 = time.time()\n",
    "        s = s2 - s1\n",
    "        print(\"Time: %2dh %2dm %2ds\" %(s//3600, (s-3600*(s//3600))//60, (s-60*(s//60))))\n",
    "\n",
    "    return func_wrapper\n",
    "\n",
    "def tmp(n=5):\n",
    "    for i in range(n):\n",
    "        print('*')\n",
    "        time.sleep(1)\n",
    "        \n",
    "dectmp = decorator_timer(tmp, n=3)\n",
    "dectmp()"
   ]
  },
  {
   "cell_type": "code",
   "execution_count": 6,
   "metadata": {},
   "outputs": [
    {
     "name": "stdout",
     "output_type": "stream",
     "text": [
      "*\n",
      "*\n",
      "*\n",
      "*\n",
      "*\n",
      "Time:  0h  0m  5s\n"
     ]
    }
   ],
   "source": [
    "import functools\n",
    "import time\n",
    "\n",
    "def timer(func):\n",
    "    @functools.wraps(func)\n",
    "    def wrapper_func(*args, **kwargs):\n",
    "        s1 = time.time()\n",
    "        val = func(*args, **kwargs)\n",
    "        s2 = time.time()\n",
    "        s = s2 - s1\n",
    "        print(\"Time: %2dh %2dm %2ds\" %(s//3600, (s-3600*(s//3600))//60, (s-60*(s//60))))\n",
    "        return val\n",
    "    return wrapper_func\n",
    "\n",
    "@timer\n",
    "def work(n=5):\n",
    "    for i in range(n):\n",
    "        print('*')\n",
    "        time.sleep(1)\n",
    "\n",
    "work()"
   ]
  },
  {
   "cell_type": "code",
   "execution_count": 77,
   "metadata": {
    "scrolled": false
   },
   "outputs": [],
   "source": [
    "import random\n",
    "\n",
    "def xx(m=0, n=10, exclude=set([0, 1])):\n",
    "    assert not set(range(m, n)).issubset(exclude)\n",
    "    while True:\n",
    "        x = random.randrange(m, n)\n",
    "        if x not in exclude:\n",
    "            return x    \n",
    "    \n",
    "def sums(m=10, n=10, ml=0, nl=0, op='+', exclude=set([0, 1])):\n",
    "    y = xx(nl, n, exclude)\n",
    "    x = xx(ml, m, exclude)\n",
    "    if op == '+':\n",
    "        r = x + y\n",
    "    elif op == '-':\n",
    "        r = x - y\n",
    "    elif op == '*' or op == 'x':\n",
    "        r = x * y\n",
    "    elif op == '/':\n",
    "        r = x / y\n",
    "    elif op == '% of ':\n",
    "        r = x * y / 100\n",
    "    elif op == '//':\n",
    "        r = x\n",
    "        x *= y\n",
    "        #while (x // y) != (x / y):\n",
    "        #    x = xx(ml, m, exclude)\n",
    "        #r = x // y\n",
    "    elif op == '///':\n",
    "        assert y != 0\n",
    "        r = x / y\n",
    "        # pick one amongst / and //\n",
    "        rr = random.randint(0, 1)\n",
    "        if rr:\n",
    "            while r != (x // y):\n",
    "                x = xx(ml, m, exclude)\n",
    "                r = x / y\n",
    "\n",
    "    return x, y, r\n",
    "\n",
    "def user_to_int(user_input, decimal_places=4):\n",
    "    fmt = '%%.%sf' % decimal_places\n",
    "    try:\n",
    "        user_input = float(fmt % float(user_input))\n",
    "    except:\n",
    "        user_input = None\n",
    "    return user_input\n",
    "\n",
    "def get_verified_input(x, y, r, op, index):\n",
    "    chances = 0\n",
    "    while True:\n",
    "        print(index, '>    ', x, op, y, '=', end=' ')\n",
    "        user_input = user_to_int(input())\n",
    "        result_compare = float('%.4f' % r)\n",
    "        if user_input == result_compare: # ALERT: since we only compare 4 decimals!!!\n",
    "            break\n",
    "        print('again, ', end='')\n",
    "        chances += 1\n",
    "    if user_input == result_compare:\n",
    "        print('  YES!')\n",
    "    else:\n",
    "        print('  '. user_input, ' is WRONG.', x, ' ', op, ' ', y, ' = ', result_compare,'\\m\\n')\n",
    "\n",
    "def get_mental_math(x, y, r, op, index):\n",
    "    print(index, '>    ', x, op, y, '=', end=' ')\n",
    "    result_discard = input()\n",
    "    print(r)\n",
    "    \n",
    "@timer\n",
    "def generate_mental_math(\n",
    "        sums_per_operator = 5,\n",
    "        operators = ['+', '-', '/', '*', '% of ', '//'],\n",
    "        max_chances = 3,\n",
    "        m = (0, 10),    \n",
    "        n = (0, 10),\n",
    "        input_process=get_verified_input,\n",
    "        exclude=set([0, 1, 10, 11, 20]),\n",
    "        unique=True):\n",
    "    \n",
    "    opsums = operators * sums_per_operator\n",
    "    random.shuffle(opsums)\n",
    "    previous_sums = set()\n",
    "    for i in range(len(opsums)):\n",
    "        op = opsums[i]\n",
    "        while True:\n",
    "            x, y, r = sums(m[1], n[1], ml=m[0], nl=n[0], op=op, exclude=exclude)\n",
    "            if not unique:\n",
    "                break\n",
    "            if (op, x, y, r) not in previous_sums:\n",
    "                previous_sums.add((op, x, y, r))\n",
    "                break\n",
    "        input_process(x, y, r, op, i+1)\n",
    "    print('That\\'s all folks!')"
   ]
  },
  {
   "cell_type": "markdown",
   "metadata": {},
   "source": [
    "# Int to String Transformation"
   ]
  },
  {
   "cell_type": "code",
   "execution_count": 78,
   "metadata": {},
   "outputs": [],
   "source": [
    "# https://stackoverflow.com/a/35416917\n",
    "def int_to_en_legacy(num):\n",
    "    d = { 0 : 'zero', 1 : 'one', 2 : 'two', 3 : 'three', 4 : 'four', 5 : 'five', \\\n",
    "          6 : 'six', 7 : 'seven', 8 : 'eight', 9 : 'nine', 10 : 'ten', \\\n",
    "          11 : 'eleven', 12 : 'twelve', 13 : 'thirteen', 14 : 'fourteen', \\\n",
    "          15 : 'fifteen', 16 : 'sixteen', 17 : 'seventeen', 18 : 'eighteen', \\\n",
    "          19 : 'ninteen', 20 : 'twenty', \\\n",
    "          30 : 'thirty', 40 : 'fourth', 50 : 'fifty', 60 : 'sixty', \\\n",
    "          70 : 'seventy', 80 : 'eighty', 90 : 'ninty' }\n",
    "    k = 1000\n",
    "    m = k * 1000\n",
    "\n",
    "    if (num < 20):\n",
    "        return d[num]\n",
    "\n",
    "    if (num < 100):\n",
    "        if num % 10 == 0:\n",
    "            return d[num]\n",
    "        else:\n",
    "            return d[num // 10 * 10] + ' ' + d[num % 10]\n",
    "\n",
    "    if (num < k):\n",
    "        if num % 100 == 0:\n",
    "            return d[num // 100] + ' hundred'\n",
    "        else:\n",
    "            return d[num // 100] + ' hundred ' + int_to_en(num % 100)\n",
    "    if (num < m):\n",
    "        if num % k == 0:\n",
    "            return int_to_en(num // k) + ' thousand'\n",
    "        else:\n",
    "            return int_to_en(num // k) + ' thousand, ' + int_to_en(num % k)\n",
    "\n",
    "def int_to_en(x):\n",
    "    if x < 0:\n",
    "        return '-' + int_to_en(-x)\n",
    "    \n",
    "    INT_TO_EN = {\n",
    "        0: 'zero',\n",
    "        1: 'one', 2: 'two', 3: 'three', 4: 'four', 5: 'five',\n",
    "        6: 'six', 7: 'seven', 8: 'eight', 9: 'nine',\n",
    "        10: 'ten',\n",
    "        11: 'eleven', 12: 'twelve', 13: 'thirteen', 14: 'fourteen', 15: 'fifteen',\n",
    "        16: 'sixteen', 17: 'seventeen', 18: 'eighteen', 19: 'nineteen',\n",
    "        20: 'twenty',\n",
    "        30: 'thirty', 40: 'forty', 50: 'fifty', 60: 'sixty', 70: 'seventy', 80: 'eighty', 90: 'nintey',\n",
    "        100: 'hundred',\n",
    "        1000: 'thousand',\n",
    "        1000000: 'million',\n",
    "    }\n",
    "    \n",
    "    def point(wf):\n",
    "        return '' if wf == 'zero' else \" \" + wf\n",
    "\n",
    "    if x < 20:\n",
    "        return INT_TO_EN[x]\n",
    "    \n",
    "    if x < 100:\n",
    "        if x % 10 == 0:\n",
    "            return INT_TO_EN[x]\n",
    "        return INT_TO_EN[10 * (x // 10)] + \" \" + INT_TO_EN[x % 10]\n",
    "    \n",
    "    if x < 1000:\n",
    "        return INT_TO_EN[x // 100] + \" \" + INT_TO_EN[100] + point(int_to_en(x % 100))\n",
    "    \n",
    "    if x < 1000000:\n",
    "        return int_to_en(x // 1000) + \" \" + INT_TO_EN[1000] + point(int_to_en(x % 1000))"
   ]
  },
  {
   "cell_type": "markdown",
   "metadata": {},
   "source": [
    "# Multiplication Tables"
   ]
  },
  {
   "cell_type": "code",
   "execution_count": 79,
   "metadata": {},
   "outputs": [],
   "source": [
    "def multiplied(x, l=10, spaces=''):\n",
    "    for r in range(1, l+1):\n",
    "        print(\"%s%3s x %3s = %3s      %5s x %5s-za = %25s\" % (spaces, x, r, r * x, int_to_en(x), int_to_en(r), int_to_en(r*x)))\n",
    "\n",
    "def multiplicating_table(x, l=10, int_begin=2):\n",
    "    for r in range(int_begin, x+1):\n",
    "        print(int_to_en(r))\n",
    "        multiplied(r, l, spaces='\\t')\n",
    "        print('\\n\\n\\n')"
   ]
  },
  {
   "cell_type": "markdown",
   "metadata": {},
   "source": [
    "### Multiplication Tables Short Form"
   ]
  },
  {
   "cell_type": "code",
   "execution_count": 80,
   "metadata": {
    "scrolled": false
   },
   "outputs": [
    {
     "name": "stdout",
     "output_type": "stream",
     "text": [
      "\n",
      "\n",
      "          2      3      4      5      6      7      8      9     10\n",
      "-------------------------------------------------------------------\n",
      "x  1      2      3      4      5      6      7      8      9     10\n",
      "x  2      4      6      8     10     12     14     16     18     20\n",
      "x  3      6      9     12     15     18     21     24     27     30\n",
      "x  4      8     12     16     20     24     28     32     36     40\n",
      "x  5     10     15     20     25     30     35     40     45     50\n",
      "x  6     12     18     24     30     36     42     48     54     60\n",
      "x  7     14     21     28     35     42     49     56     63     70\n",
      "x  8     16     24     32     40     48     56     64     72     80\n",
      "x  9     18     27     36     45     54     63     72     81     90\n",
      "x 10     20     30     40     50     60     70     80     90    100\n",
      "\n",
      "\n",
      "\n",
      "\n",
      "         11     12     13     14     15     16     17     18     19\n",
      "-------------------------------------------------------------------\n",
      "x  1     11     12     13     14     15     16     17     18     19\n",
      "x  2     22     24     26     28     30     32     34     36     38\n",
      "x  3     33     36     39     42     45     48     51     54     57\n",
      "x  4     44     48     52     56     60     64     68     72     76\n",
      "x  5     55     60     65     70     75     80     85     90     95\n",
      "x  6     66     72     78     84     90     96    102    108    114\n",
      "x  7     77     84     91     98    105    112    119    126    133\n",
      "x  8     88     96    104    112    120    128    136    144    152\n",
      "x  9     99    108    117    126    135    144    153    162    171\n",
      "x 10    110    120    130    140    150    160    170    180    190\n",
      "\n",
      "\n"
     ]
    }
   ],
   "source": [
    "def multiplication_table(n, e):\n",
    "    print('')\n",
    "    print('')\n",
    "    # multiplication table of n to e\n",
    "    print('    ' + ''.join(['  %5.0f'  % idx for idx in range(n, e)]))\n",
    "    print('-' * (4+7*(e-n)))\n",
    "    for idx in range(1, 11):\n",
    "        print('x%3.0f' % idx + ''.join(['  %5.0f' % (jdx * idx) for jdx in range(n, e)]))\n",
    "    print('')        \n",
    "    print('')\n",
    "    \n",
    "ntuple = 9\n",
    "for idx in range(2, 20, ntuple):\n",
    "    multiplication_table(idx, idx+ntuple)"
   ]
  },
  {
   "cell_type": "markdown",
   "metadata": {},
   "source": [
    "### Random Operations Examples"
   ]
  },
  {
   "cell_type": "code",
   "execution_count": 21,
   "metadata": {},
   "outputs": [],
   "source": [
    "#generate_mental_math(2, ['*'], 3, m=(0, 10), n=(0, 10))\n",
    "#generate_mental_math(30, ['+', '-'], 3)\n",
    "#generate_mental_math(30, ['+', '-'], 3, m=(5, 10))\n",
    "#generate_mental_math(120, ['+'], 3, m=(0, 10), n=(0, 10), input_process=get_mental_math)\n",
    "#generate_mental_math(30, ['+'], 3, m=(0, 100), n=(0, 10))\n",
    "#generate_mental_math(30, ['*'], 3, m=(0, 10), n=(0, 10))\n",
    "#generate_mental_math(120, ['*'], 3, m=(1, 13), n=(1, 10), input_process=get_mental_math)\n",
    "#generate_mental_math(30, ['*'], 3, m=(0, 10), n=(0, 10))\n",
    "#generate_mental_math(120, ['*'], input_process=get_mental_math, m=(0, 21), n=(0, 11))\n",
    "\n",
    "#generate_mental_math(10, ['+', '-'], 3, m=(0, 100), n=(0, 100))\n",
    "#generate_mental_math(10, ['//'], 3, m=(0, 100), n=(0, 11))"
   ]
  },
  {
   "cell_type": "markdown",
   "metadata": {},
   "source": [
    "# Daily Exercise"
   ]
  },
  {
   "cell_type": "code",
   "execution_count": 97,
   "metadata": {},
   "outputs": [
    {
     "name": "stdout",
     "output_type": "stream",
     "text": [
      "That's all folks!\n",
      "Time:  0h  0m  0s\n"
     ]
    }
   ],
   "source": [
    "generate_mental_math(10, ['+', '-'], 3, m=(0, 100), n=(0, 100))"
   ]
  },
  {
   "cell_type": "code",
   "execution_count": 23,
   "metadata": {},
   "outputs": [],
   "source": [
    "#generate_mental_math(20, ['*'], 3, m=(1, 13), n=(1, 10))\n",
    "#generate_mental_math(20, ['*'], 3, m=(11, 21), n=(1, 10))"
   ]
  },
  {
   "cell_type": "code",
   "execution_count": 98,
   "metadata": {},
   "outputs": [
    {
     "name": "stdout",
     "output_type": "stream",
     "text": [
      "1 >     14 * 6 = 84\n",
      "  YES!\n",
      "2 >     3 * 4 = 12\n",
      "  YES!\n",
      "3 >     7 * 7 = 49\n",
      "  YES!\n",
      "4 >     7 * 3 = 21\n",
      "  YES!\n",
      "5 >     9 * 9 = 81\n",
      "  YES!\n",
      "6 >     2 * 8 = 16\n",
      "  YES!\n",
      "7 >     13 * 9 = 117\n",
      "  YES!\n",
      "8 >     19 * 6 = 114\n",
      "  YES!\n",
      "9 >     18 * 4 = 72\n",
      "  YES!\n",
      "10 >     14 * 2 = 28\n",
      "  YES!\n",
      "11 >     13 * 3 = 39\n",
      "  YES!\n",
      "12 >     19 * 2 = 38\n",
      "  YES!\n",
      "13 >     4 * 5 = 20\n",
      "  YES!\n",
      "14 >     12 * 3 = 36\n",
      "  YES!\n",
      "15 >     19 * 5 = 95\n",
      "  YES!\n",
      "16 >     7 * 2 = 14\n",
      "  YES!\n",
      "17 >     8 * 8 = 64\n",
      "  YES!\n",
      "18 >     5 * 5 = 25\n",
      "  YES!\n",
      "19 >     2 * 6 = 12\n",
      "  YES!\n",
      "20 >     6 * 2 = 12\n",
      "  YES!\n",
      "That's all folks!\n",
      "Time:  0h  2m 37s\n"
     ]
    }
   ],
   "source": [
    "generate_mental_math(20, ['*'], 3, m=(1, 21), n=(1, 10))"
   ]
  },
  {
   "cell_type": "code",
   "execution_count": 100,
   "metadata": {},
   "outputs": [
    {
     "name": "stdout",
     "output_type": "stream",
     "text": [
      "1 >     171 // 19 = 9\n",
      "  YES!\n",
      "2 >     38 // 19 = 2\n",
      "  YES!\n",
      "3 >     162 // 18 = 9\n",
      "  YES!\n",
      "4 >     119 // 17 = 7\n",
      "  YES!\n",
      "5 >     144 // 16 = 9\n",
      "  YES!\n",
      "6 >     112 // 16 = 7\n",
      "  YES!\n",
      "7 >     48 // 12 = 4\n",
      "  YES!\n",
      "8 >     75 // 15 = 5\n",
      "  YES!\n",
      "9 >     36 // 18 = 2\n",
      "  YES!\n",
      "10 >     128 // 16 = 8\n",
      "  YES!\n",
      "That's all folks!\n",
      "Time:  0h  0m 46s\n"
     ]
    }
   ],
   "source": [
    "generate_mental_math(10, ['//'], 3, m=(1, 11), n=(11, 20))"
   ]
  },
  {
   "cell_type": "code",
   "execution_count": 101,
   "metadata": {},
   "outputs": [
    {
     "name": "stdout",
     "output_type": "stream",
     "text": [
      "1 >     64 / 3 = 21.33333334\n",
      "  YES!\n",
      "2 >     43 / 7 = 6.1428571\n",
      "  YES!\n",
      "3 >     38 / 9 = 4.2222223\n",
      "  YES!\n",
      "4 >     58 / 4 = 14.5\n",
      "  YES!\n",
      "5 >     36 / 2 = 18\n",
      "  YES!\n",
      "6 >     28 / 9 = 3.11111112\n",
      "  YES!\n",
      "7 >     74 / 4 = 18.5\n",
      "  YES!\n",
      "8 >     72 / 3 = 24\n",
      "  YES!\n",
      "9 >     93 / 7 = 13.2857142\n",
      "  YES!\n",
      "10 >     15 / 2 = 7.5\n",
      "  YES!\n",
      "11 >     85 / 4 = 21.25\n",
      "  YES!\n",
      "12 >     66 / 6 = 11\n",
      "  YES!\n",
      "13 >     55 / 4 = 13.75\n",
      "  YES!\n",
      "14 >     55 / 7 = 7.8571428\n",
      "  YES!\n",
      "15 >     40 / 5 = 8\n",
      "  YES!\n",
      "16 >     38 / 8 = 4.5\n",
      "again, 16 >     38 / 8 = 3.75\n",
      "again, 16 >     38 / 8 = 4.75\n",
      "  YES!\n",
      "17 >     53 / 4 = 13.25\n",
      "  YES!\n",
      "18 >     68 / 3 = 22.6666667\n",
      "  YES!\n",
      "19 >     39 / 9 = 4.33333334\n",
      "  YES!\n",
      "20 >     49 / 3 = 16.3333334\n",
      "  YES!\n",
      "That's all folks!\n",
      "Time:  0h  6m 50s\n"
     ]
    }
   ],
   "source": [
    "generate_mental_math(20, ['/'], 3, m=(1, 100), n=(1, 11))"
   ]
  },
  {
   "cell_type": "code",
   "execution_count": 27,
   "metadata": {},
   "outputs": [],
   "source": [
    "#generate_mental_math(20, ['///'], 3, m=(1, 100), n=(1, 11))"
   ]
  },
  {
   "cell_type": "code",
   "execution_count": 102,
   "metadata": {},
   "outputs": [
    {
     "name": "stdout",
     "output_type": "stream",
     "text": [
      "  8 x   1 =   8      eight x   one-za =                     eight\n",
      "  8 x   2 =  16      eight x   two-za =                   sixteen\n",
      "  8 x   3 =  24      eight x three-za =               twenty four\n",
      "  8 x   4 =  32      eight x  four-za =                thirty two\n",
      "  8 x   5 =  40      eight x  five-za =                     forty\n",
      "  8 x   6 =  48      eight x   six-za =               forty eight\n",
      "  8 x   7 =  56      eight x seven-za =                 fifty six\n",
      "  8 x   8 =  64      eight x eight-za =                sixty four\n",
      "  8 x   9 =  72      eight x  nine-za =               seventy two\n",
      "  8 x  10 =  80      eight x   ten-za =                    eighty\n",
      "\n",
      "  2 x   1 =   2        two x   one-za =                       two\n",
      "  2 x   2 =   4        two x   two-za =                      four\n",
      "  2 x   3 =   6        two x three-za =                       six\n",
      "  2 x   4 =   8        two x  four-za =                     eight\n",
      "  2 x   5 =  10        two x  five-za =                       ten\n",
      "  2 x   6 =  12        two x   six-za =                    twelve\n",
      "  2 x   7 =  14        two x seven-za =                  fourteen\n",
      "  2 x   8 =  16        two x eight-za =                   sixteen\n",
      "  2 x   9 =  18        two x  nine-za =                  eighteen\n",
      "  2 x  10 =  20        two x   ten-za =                    twenty\n",
      "\n"
     ]
    }
   ],
   "source": [
    "for i in range(2):\n",
    "    multiplied(random.randrange(2, 10))\n",
    "    print()"
   ]
  },
  {
   "cell_type": "code",
   "execution_count": 103,
   "metadata": {},
   "outputs": [
    {
     "name": "stdout",
     "output_type": "stream",
     "text": [
      " 14 x   1 =  14      fourteen x   one-za =                  fourteen\n",
      " 14 x   2 =  28      fourteen x   two-za =              twenty eight\n",
      " 14 x   3 =  42      fourteen x three-za =                 forty two\n",
      " 14 x   4 =  56      fourteen x  four-za =                 fifty six\n",
      " 14 x   5 =  70      fourteen x  five-za =                   seventy\n",
      " 14 x   6 =  84      fourteen x   six-za =               eighty four\n",
      " 14 x   7 =  98      fourteen x seven-za =              nintey eight\n",
      " 14 x   8 = 112      fourteen x eight-za =        one hundred twelve\n",
      " 14 x   9 = 126      fourteen x  nine-za =    one hundred twenty six\n",
      " 14 x  10 = 140      fourteen x   ten-za =         one hundred forty\n",
      "\n",
      " 12 x   1 =  12      twelve x   one-za =                    twelve\n",
      " 12 x   2 =  24      twelve x   two-za =               twenty four\n",
      " 12 x   3 =  36      twelve x three-za =                thirty six\n",
      " 12 x   4 =  48      twelve x  four-za =               forty eight\n",
      " 12 x   5 =  60      twelve x  five-za =                     sixty\n",
      " 12 x   6 =  72      twelve x   six-za =               seventy two\n",
      " 12 x   7 =  84      twelve x seven-za =               eighty four\n",
      " 12 x   8 =  96      twelve x eight-za =                nintey six\n",
      " 12 x   9 = 108      twelve x  nine-za =         one hundred eight\n",
      " 12 x  10 = 120      twelve x   ten-za =        one hundred twenty\n",
      "\n"
     ]
    }
   ],
   "source": [
    "for _ in range(2):\n",
    "    multiplied(random.randrange(12, 20))\n",
    "    print()\n",
    "\n",
    "#generate_mental_math(2, ['*'], 3, m=(8, 9), n=(1, 10), unique=False)"
   ]
  },
  {
   "cell_type": "code",
   "execution_count": null,
   "metadata": {},
   "outputs": [],
   "source": []
  }
 ],
 "metadata": {
  "kernelspec": {
   "display_name": "Python 3",
   "language": "python",
   "name": "python3"
  },
  "language_info": {
   "codemirror_mode": {
    "name": "ipython",
    "version": 3
   },
   "file_extension": ".py",
   "mimetype": "text/x-python",
   "name": "python",
   "nbconvert_exporter": "python",
   "pygments_lexer": "ipython3",
   "version": "3.7.5"
  }
 },
 "nbformat": 4,
 "nbformat_minor": 2
}
